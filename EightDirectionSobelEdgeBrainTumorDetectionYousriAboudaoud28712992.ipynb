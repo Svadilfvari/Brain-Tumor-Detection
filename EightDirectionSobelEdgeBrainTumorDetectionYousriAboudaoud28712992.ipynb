{
 "cells": [
  {
   "cell_type": "markdown",
   "id": "023c7b71",
   "metadata": {},
   "source": [
    "# Image processing project's report\n",
    "##### Yousri Aboudaoud M1 ISI, N° Student: 28712992\n"
   ]
  },
  {
   "cell_type": "markdown",
   "id": "f5c7d0d0",
   "metadata": {},
   "source": [
    "## Eight direction Sobel edge detector for brain tumor detection"
   ]
  },
  {
   "cell_type": "markdown",
   "id": "f06eb2a0",
   "metadata": {},
   "source": [
    "### I. Introduction \n",
    "This is a suggested prototype to implement the methodology described in the article \"Comparative Analysis of Eight Direction Sobel Edge Detection\n",
    "Algorithm for Brain Tumor MRI Images\" to detect brain tumors using MRI images, and that will be used in Deep Learning based classification.\n"
   ]
  },
  {
   "cell_type": "markdown",
   "id": "1993d44c",
   "metadata": {},
   "source": [
    "### II. The algorithm\n"
   ]
  },
  {
   "cell_type": "code",
   "execution_count": 1,
   "id": "203cc4d4",
   "metadata": {},
   "outputs": [],
   "source": [
    "import numpy as np\n",
    "import cv2\n",
    "import os"
   ]
  },
  {
   "cell_type": "code",
   "execution_count": 2,
   "id": "b863374e",
   "metadata": {},
   "outputs": [],
   "source": [
    "# Function for Gaussian filtering\n",
    "def gaussian_filter(image, kernel_size=3, sigma=1):\n",
    "    return cv2.GaussianBlur(image, (kernel_size, kernel_size), sigma)"
   ]
  },
  {
   "cell_type": "markdown",
   "id": "e209807d",
   "metadata": {},
   "source": [
    "First, a convolution function is created to apply the given kernel onto the image, while adding zeros to the image (padding):"
   ]
  },
  {
   "cell_type": "code",
   "execution_count": 3,
   "id": "e64add96",
   "metadata": {},
   "outputs": [],
   "source": [
    "# Function to perform convolution\n",
    "def convolution(image, kernel):\n",
    "    height, width = image.shape\n",
    "    kernel_size = kernel.shape[0]\n",
    "    padding = kernel_size // 2\n",
    "\n",
    "    # Add zero padding to the image\n",
    "    padded_image = np.pad(image, padding, mode='constant', constant_values=0)\n",
    "    \n",
    "    # Initialize the output image\n",
    "    output = np.zeros((height, width), dtype=np.float32)\n",
    "    \n",
    "    # Perform convolution\n",
    "    for i in range(height):\n",
    "        for j in range(width):\n",
    "            output[i, j] = np.sum(padded_image[i:i+kernel_size, j:j+kernel_size] * kernel)\n",
    "    \n",
    "    return output"
   ]
  },
  {
   "cell_type": "markdown",
   "id": "8d6a97b6",
   "metadata": {},
   "source": [
    "The used kernel are defined as such from the paper:"
   ]
  },
  {
   "cell_type": "markdown",
   "id": "735b3f50",
   "metadata": {},
   "source": [
    "<img src=\"EightSobelEdgeDetectionMatrices.png\">"
   ]
  },
  {
   "cell_type": "code",
   "execution_count": 4,
   "id": "1bf84f2a",
   "metadata": {},
   "outputs": [],
   "source": [
    "# Function to perform Sobel edge detection in eight directions\n",
    "def sobel_edge_detection(image):\n",
    "    # Define Sobel kernels for eight directions\n",
    "    # Following the paper's definition\n",
    "    sobel_d1 = np.array([[1, 2, 1], [0, 0, 0], [-1, -2, -1]])\n",
    "    sobel_d2 = np.array([[0, 1, 2], [-1, 0, 1], [-2, -1, 0]])\n",
    "    sobel_d3 = np.array([[-1, 0, 1], [-2, 0, 2], [-1, 0, -1]])\n",
    "    sobel_d4 = np.array([[-2, -1, 0], [-1, 0, 1], [0, 1, 2]])\n",
    "    sobel_d5 = np.array([[-1, -2, -1], [0, 0, 0], [1, 2, 1]])\n",
    "    sobel_d6 = -1*sobel_d4 \n",
    "    sobel_d7 = -1*sobel_d3\n",
    "    sobel_d8 = -1*sobel_d2\n",
    "    \n",
    "    sobel_kernels = [sobel_d1,sobel_d2,sobel_d3,sobel_d4,sobel_d5,sobel_d6,sobel_d7,sobel_d8]\n",
    "    \n",
    "    \n",
    "    # Initialize list to store gradient images for each direction\n",
    "    gradient_images = []\n",
    "    \n",
    "    # Compute gradients for each direction\n",
    "    for kernel in sobel_kernels:\n",
    "        gradient_images.append(convolution(image, kernel))\n",
    "    \n",
    "    return gradient_images"
   ]
  },
  {
   "cell_type": "markdown",
   "id": "1bdd7337",
   "metadata": {},
   "source": [
    "In a conventional BiDirectional Sobel edge detector, the kernels can be applied separately to the input image, to produce separate measurements of the gradient component in each orientation (call these Gx and Gy). These can then be combined together to find the absolute magnitude of the gradient at each point and the orientation of that gradient. The gradient magnitude is given by: $|G|=\\sqrt{G_x^2+G_y^2}$\n",
    "\n",
    "However, in the suggested method, 8 dimensions are suggested, hence, the magnitude is computed as a \"cumulative sum of each gradient\" with respect to its corresponding dimension, and that's done using the function **compute_gradient_magnitude(gradient_images)**\n"
   ]
  },
  {
   "cell_type": "code",
   "execution_count": 5,
   "id": "d7535804",
   "metadata": {},
   "outputs": [],
   "source": [
    "# Function to compute the magnitude of the gradient\n",
    "def compute_gradient_magnitude(gradient_images):\n",
    "    # Initialize an empty array to store the magnitude of the gradient\n",
    "    magnitude = np.zeros_like(gradient_images[0])\n",
    "    \n",
    "    # Compute the magnitude of the gradient pixel-wise\n",
    "    for edge in gradient_images:\n",
    "        magnitude += edge**2  # Accumulate squared gradient values\n",
    "    \n",
    "    # Take the square root to obtain the magnitude\n",
    "    magnitude = np.sqrt(magnitude)\n",
    "    \n",
    "    return magnitude.astype(np.uint8)"
   ]
  },
  {
   "cell_type": "markdown",
   "id": "49bbbe26",
   "metadata": {},
   "source": [
    "This is the code that : \n",
    "   - Loads the dataset from a data folder\n",
    "   - Creates an output folder to store in it the output of the algorithm\n",
    "   - Goes through all the images of the dataset using a for loop\n",
    "   - Read a given image and applies the following pipeline : gaussian filtering (Preprocessing), applies the sobel kernels to the image, combines the gradients by computing their magnitude, and finally adds the output images in the output folder"
   ]
  },
  {
   "cell_type": "code",
   "execution_count": 22,
   "id": "f72fdba9",
   "metadata": {},
   "outputs": [
    {
     "name": "stdout",
     "output_type": "stream",
     "text": [
      "Edge detection completed. Results saved in output_directory_test4\n"
     ]
    }
   ],
   "source": [
    "\n",
    "# Path to the directory containing brain tumor images (in folder containning a reduced number of images)\n",
    "input_dir = \"Data_set_Brain_Tumors_Kaggle\\Testing\\meningioma_Reduced\"\n",
    "\n",
    "# Output directory to save the edge-detected images\n",
    "output_dir = \"output_directory_test4\"\n",
    "\n",
    "# Create the output directory if it doesn't exist\n",
    "if not os.path.exists(output_dir):\n",
    "    os.makedirs(output_dir)\n",
    "\n",
    "# Get the current working directory\n",
    "cwd = os.getcwd()\n",
    "\n",
    "# Construct the full path to the input directory\n",
    "input_full_path = os.path.join(cwd, input_dir)\n",
    "\n",
    "# Iterate through the images in the input directory\n",
    "for filename in os.listdir(input_full_path):\n",
    "\n",
    "    # Read the image\n",
    "    image_path = os.path.join(input_full_path, filename)\n",
    "    image = cv2.imread(image_path, cv2.IMREAD_GRAYSCALE)\n",
    "\n",
    "    # Preprocess the image with Gaussian filtering\n",
    "    preprocessed_image = gaussian_filter(image)\n",
    "    \n",
    "    # Perform Sobel edge detection in eight directions\n",
    "    gradient_images = sobel_edge_detection(preprocessed_image)\n",
    "\n",
    "    # Combine the results of Sobel edge detection in eight directions\n",
    "    edge_image = compute_gradient_magnitude(gradient_images)\n",
    "\n",
    "    # Thresholding the image \n",
    "    _,thresholded_image = cv2.threshold(edge_image, 180,250, cv2.THRESH_BINARY)\n",
    "\n",
    "    # Save the edge-detected image\n",
    "    output_path = os.path.join(output_dir, \"edge_\" + filename)\n",
    "    cv2.imwrite(output_path, thresholded_image)\n",
    "\n",
    "print(\"Edge detection completed. Results saved in\", output_dir)\n"
   ]
  },
  {
   "cell_type": "code",
   "execution_count": 23,
   "id": "5a23dba5",
   "metadata": {},
   "outputs": [],
   "source": [
    "cv2.imshow(\"Thresholded Image\", thresholded_image)\n",
    "cv2.waitKey(0)\n",
    "cv2.destroyAllWindows()"
   ]
  },
  {
   "cell_type": "code",
   "execution_count": null,
   "id": "21cd5284",
   "metadata": {},
   "outputs": [],
   "source": []
  }
 ],
 "metadata": {
  "kernelspec": {
   "display_name": "Python 3 (ipykernel)",
   "language": "python",
   "name": "python3"
  },
  "language_info": {
   "codemirror_mode": {
    "name": "ipython",
    "version": 3
   },
   "file_extension": ".py",
   "mimetype": "text/x-python",
   "name": "python",
   "nbconvert_exporter": "python",
   "pygments_lexer": "ipython3",
   "version": "3.9.13"
  }
 },
 "nbformat": 4,
 "nbformat_minor": 5
}
